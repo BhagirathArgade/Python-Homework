{
  "nbformat": 4,
  "nbformat_minor": 0,
  "metadata": {
    "colab": {
      "provenance": []
    },
    "kernelspec": {
      "name": "python3",
      "display_name": "Python 3"
    },
    "language_info": {
      "name": "python"
    }
  },
  "cells": [
    {
      "cell_type": "markdown",
      "source": [
        "1. Python code to calculate the square root of the given number(run time variable)\n",
        "\n"
      ],
      "metadata": {
        "id": "syLfQ0IKsjc0"
      }
    },
    {
      "cell_type": "code",
      "execution_count": null,
      "metadata": {
        "colab": {
          "base_uri": "https://localhost:8080/"
        },
        "id": "S0daWAKzsMdV",
        "outputId": "c873e5b8-b7bf-4f0a-8e36-c1ba68375f11"
      },
      "outputs": [
        {
          "output_type": "stream",
          "name": "stdout",
          "text": [
            "Enter the number : 16\n",
            "The Square Root of  16  is :  4.0\n"
          ]
        }
      ],
      "source": [
        "n = int (input (\"Enter the number : \"))\n",
        "sqrt = n **0.5\n",
        "print (\"The Square Root of \",n, \" is : \", sqrt)"
      ]
    },
    {
      "cell_type": "markdown",
      "source": [
        "2. Take two inputs from user and check whether they are equal or not.\n"
      ],
      "metadata": {
        "id": "uOa36NVEtV0q"
      }
    },
    {
      "cell_type": "code",
      "source": [
        "x = int (input (\"Enter the first number : \"))\n",
        "y = int (input (\"Enter the second number : \"))\n",
        "\n",
        "if(x ==y ):{\n",
        "    print (\"Equal.\")\n",
        "}\n",
        "else : {\n",
        "    print (\"Not Equal.\")\n",
        "}"
      ],
      "metadata": {
        "colab": {
          "base_uri": "https://localhost:8080/"
        },
        "id": "dkWUK5ajtdAS",
        "outputId": "18a86f79-3850-4941-9a43-54cbe2182b3d"
      },
      "execution_count": null,
      "outputs": [
        {
          "output_type": "stream",
          "name": "stdout",
          "text": [
            "Enter the first number : 10\n",
            "Enter the second number : 12\n",
            "Not Equal.\n"
          ]
        }
      ]
    },
    {
      "cell_type": "markdown",
      "source": [
        "4. Take an single digit integer input from the user (3), print an output for (3+(33))\n"
      ],
      "metadata": {
        "id": "jRpAnhDduMrt"
      }
    },
    {
      "cell_type": "code",
      "source": [
        "n = int (input (\"Enter the number : \"))\n",
        "add = n+33\n",
        "print (\"The addition of \",n,\" and 33 is : \",add)\n"
      ],
      "metadata": {
        "colab": {
          "base_uri": "https://localhost:8080/"
        },
        "id": "GK4k_ANiuOot",
        "outputId": "b41563e6-68ab-47e5-de07-9be56e6b0552"
      },
      "execution_count": null,
      "outputs": [
        {
          "output_type": "stream",
          "name": "stdout",
          "text": [
            "Enter the number : 3\n",
            "The addition of  3  and 33 is :  36\n"
          ]
        }
      ]
    },
    {
      "cell_type": "markdown",
      "source": [
        "5. Python Program to Convert Celsius To Fahrenheit\n",
        "#####  celsius * 1.8 = fahrenheit - 32\n"
      ],
      "metadata": {
        "id": "qykdRdTGu1dD"
      }
    },
    {
      "cell_type": "code",
      "source": [
        "c = int (input (\"Enter the temperature in Degree Celsius : \"))\n",
        "f = (c*1.8)+32\n",
        "print (\"Temperature in Fahrenheit is : \", f)"
      ],
      "metadata": {
        "colab": {
          "base_uri": "https://localhost:8080/"
        },
        "id": "GIsLAcwlvB8w",
        "outputId": "1666435f-6123-4a74-ddd3-a2865b613440"
      },
      "execution_count": null,
      "outputs": [
        {
          "output_type": "stream",
          "name": "stdout",
          "text": [
            "Enter the temperature in Degree Celsius : 30\n",
            "Temperature in Fahrenheit is :  86.0\n"
          ]
        }
      ]
    },
    {
      "cell_type": "markdown",
      "source": [
        "6. Write Python code to get a runtime variable as float and display as integer\n",
        "                   input: float number\n",
        "                   output: int number\n"
      ],
      "metadata": {
        "id": "FD4KQUz_vzf2"
      }
    },
    {
      "cell_type": "code",
      "source": [
        "ft = float (input (\"Enter the float value : \"))\n",
        "n =int(ft)\n",
        "print (\"Integer value is : \",n)"
      ],
      "metadata": {
        "colab": {
          "base_uri": "https://localhost:8080/"
        },
        "id": "ksQb8Dtcwl_3",
        "outputId": "215ae193-cec2-4993-c573-b183436bf084"
      },
      "execution_count": null,
      "outputs": [
        {
          "output_type": "stream",
          "name": "stdout",
          "text": [
            "Enter the float value : 10.23\n",
            "Integer value is :  10\n"
          ]
        }
      ]
    },
    {
      "cell_type": "markdown",
      "source": [
        " 7. Python code for the given number of days, find how many weeks and how many days are left\n",
        "### eg. input = 15 days, # weeks =  2, # days left = 1\n"
      ],
      "metadata": {
        "id": "qa0Z_-LLxVse"
      }
    },
    {
      "cell_type": "code",
      "source": [
        "n = int (input (\"Enter the number of days : \"))\n",
        "weeks  = n // 7\n",
        "days = n % 7\n",
        "print (\"Weeks left are : \", weeks, \" and days left are : \" ,days)"
      ],
      "metadata": {
        "colab": {
          "base_uri": "https://localhost:8080/"
        },
        "id": "XQBV8mQLxXqO",
        "outputId": "e779f3bd-935e-4746-cdf6-f6df3d98c664"
      },
      "execution_count": null,
      "outputs": [
        {
          "output_type": "stream",
          "name": "stdout",
          "text": [
            "Enter the number of days : 15\n",
            "Weeks left are :  2  and days left are :  1\n"
          ]
        }
      ]
    }
  ]
}